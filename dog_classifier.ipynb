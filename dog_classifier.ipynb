{
  "nbformat": 4,
  "nbformat_minor": 0,
  "metadata": {
    "kernelspec": {
      "name": "python3",
      "display_name": "Python 3",
      "language": "python"
    },
    "language_info": {
      "name": "python",
      "version": "3.7.6",
      "mimetype": "text/x-python",
      "codemirror_mode": {
        "name": "ipython",
        "version": 3
      },
      "pygments_lexer": "ipython3",
      "nbconvert_exporter": "python",
      "file_extension": ".py"
    },
    "colab": {
      "name": "dog_classifier.ipynb",
      "provenance": [],
      "collapsed_sections": []
    }
  },
  "cells": [
    {
      "cell_type": "code",
      "metadata": {
        "trusted": true,
        "id": "6Q2VbZOKqngB"
      },
      "source": [
        "import os\n",
        "import numpy as np\n",
        "from numpy import asarray\n",
        "import PIL\n",
        "from PIL import Image\n",
        "import skimage\n",
        "from skimage.transform import resize\n",
        "from skimage.color import rgb2gray,gray2rgb\n",
        "from skimage.filters import median,threshold_otsu,meijering\n",
        "from skimage.exposure import equalize_adapthist\n",
        "from matplotlib import pyplot as plt\n",
        "from skimage.io import imread"
      ],
      "execution_count": 15,
      "outputs": []
    },
    {
      "cell_type": "code",
      "metadata": {
        "colab": {
          "base_uri": "https://localhost:8080/"
        },
        "id": "ktRdA1Nkq3jD",
        "outputId": "6a3588c9-d843-487b-87e0-f1507299cadf"
      },
      "source": [
        "from google.colab import drive\n",
        "drive.mount('/content/drive')"
      ],
      "execution_count": 2,
      "outputs": [
        {
          "output_type": "stream",
          "text": [
            "Mounted at /content/drive\n"
          ],
          "name": "stdout"
        }
      ]
    },
    {
      "cell_type": "code",
      "metadata": {
        "trusted": true,
        "id": "IjtRoSzhqngI"
      },
      "source": [
        "DIR=\"/content/drive/MyDrive/Colab Notebooks/images\"\n",
        "IMG_SIZE = 250\n",
        "X= []*3838\n",
        "y=[]"
      ],
      "execution_count": 11,
      "outputs": []
    },
    {
      "cell_type": "code",
      "metadata": {
        "id": "FvpB79g1rF_y"
      },
      "source": [
        "def preprocess(img):\r\n",
        "  img = rgb2gray(img)\r\n",
        "  img=meijering(img)\r\n",
        "  img = gray2rgb(img)\r\n",
        "  return img"
      ],
      "execution_count": null,
      "outputs": []
    },
    {
      "cell_type": "code",
      "metadata": {
        "trusted": true,
        "id": "66dlwx0UqngJ"
      },
      "source": [
        "for category in os.listdir(DIR):\n",
        "    path = os.path.join(DIR, category)\n",
        "    for img in os.listdir(path):\n",
        "        class_no = os.listdir(DIR).index(category)\n",
        "        filename = os.path.join(path, img)\n",
        "        img_array = asarray(Image.open(filename).convert('RGB'))\n",
        "        img_array = resize(img_array, (250, 250))\n",
        "        plt.imsave(filename,img_array)"
      ],
      "execution_count": null,
      "outputs": []
    },
    {
      "cell_type": "code",
      "metadata": {
        "id": "CSMtISwE19IY"
      },
      "source": [
        "for category in os.listdir(DIR):\r\n",
        "    path = os.path.join(DIR, category)\r\n",
        "    for img in os.listdir(path):\r\n",
        "        class_no = os.listdir(DIR).index(category)\r\n",
        "        filename = os.path.join(path, img)\r\n",
        "        img_array = asarray(Image.open(filename).convert('RGB'))\r\n",
        "        augmented_array=preprocess(img_array)\r\n",
        "        filename=filename[:-4] + '-augmented.jpg'\r\n",
        "        plt.imsave(filename,augmented_array)"
      ],
      "execution_count": null,
      "outputs": []
    },
    {
      "cell_type": "code",
      "metadata": {
        "colab": {
          "base_uri": "https://localhost:8080/"
        },
        "id": "N8SOSn9zNwvV",
        "outputId": "5a79dbdb-9f07-490b-a3e8-f51d83f0fbc4"
      },
      "source": [
        "i=0\r\n",
        "for category in os.listdir(DIR):\r\n",
        "    path = os.path.join(DIR, category)\r\n",
        "    for img in os.listdir(path):\r\n",
        "      i+=1\r\n",
        "\r\n",
        "print(\"amount of images= \"+str(i))"
      ],
      "execution_count": 8,
      "outputs": [
        {
          "output_type": "stream",
          "text": [
            "amount of images= 3838\n"
          ],
          "name": "stdout"
        }
      ]
    },
    {
      "cell_type": "code",
      "metadata": {
        "id": "PEtWUGSh4ICR"
      },
      "source": [
        "for category in os.listdir(DIR):\r\n",
        "    path = os.path.join(DIR, category)\r\n",
        "    for img in os.listdir(path):\r\n",
        "        class_no = os.listdir(DIR).index(category)\r\n",
        "        filename = os.path.join(path, img)\r\n",
        "        img_array = asarray(skimage.io.imread(filename))\r\n",
        "        X.append(img_array)\r\n",
        "        y.append(class_no)"
      ],
      "execution_count": 17,
      "outputs": []
    },
    {
      "cell_type": "code",
      "metadata": {
        "trusted": true,
        "id": "FGDwWPytqngJ"
      },
      "source": [
        "X=np.array(X).reshape(-1,IMG_SIZE,IMG_SIZE,3)\n",
        "y = np.array(y)\n",
        "X=X/255.0"
      ],
      "execution_count": null,
      "outputs": []
    },
    {
      "cell_type": "code",
      "metadata": {
        "trusted": true,
        "id": "b8pIrTZSqngJ"
      },
      "source": [
        "import tensorflow as tf\n",
        "from keras_preprocessing.image import ImageDataGenerator\n",
        "import sklearn\n",
        "from sklearn.model_selection import train_test_split\n",
        "from tensorflow.keras.layers import Dense, Flatten\n",
        "from tensorflow.keras.applications.inception_v3 import InceptionV3"
      ],
      "execution_count": null,
      "outputs": []
    },
    {
      "cell_type": "code",
      "metadata": {
        "id": "rnYItzWqsrvV"
      },
      "source": [
        "%tensorflow_version 2.x\r\n",
        "import tensorflow as tf\r\n",
        "device_name = tf.test.gpu_device_name()\r\n",
        "if device_name != '/device:GPU:0':\r\n",
        "  raise SystemError('GPU device not found')\r\n",
        "print('Found GPU at: {}'.format(device_name))"
      ],
      "execution_count": null,
      "outputs": []
    },
    {
      "cell_type": "code",
      "metadata": {
        "trusted": true,
        "id": "RueOZrP-qngK"
      },
      "source": [
        "X_train, X_test, y_train, y_test = train_test_split(X, y, test_size=0.33,shuffle= True)\n",
        "X_train, X_val, y_train, y_val  = train_test_split(X_train, y_train, test_size=0.33, shuffle= True )"
      ],
      "execution_count": null,
      "outputs": []
    },
    {
      "cell_type": "code",
      "metadata": {
        "trusted": true,
        "id": "kKGgZAhdqngK",
        "outputId": "addd3f56-f2a1-485c-85a6-997095e58af2"
      },
      "source": [
        "base_model = InceptionV3(\n",
        "                                weights='imagenet',\n",
        "                                include_top=False,\n",
        "                                input_shape=(250, 250,3)\n",
        "                                )\n",
        "\n",
        "base_model.trainable=False\n",
        "\n",
        "model = tf.keras.Sequential()\n",
        "model.add(base_model)\n",
        "model.add(Flatten())\n",
        "model.add(Dense(10, activation='softmax'))"
      ],
      "execution_count": null,
      "outputs": [
        {
          "output_type": "stream",
          "text": [
            "Downloading data from https://storage.googleapis.com/tensorflow/keras-applications/inception_v3/inception_v3_weights_tf_dim_ordering_tf_kernels_notop.h5\n",
            "87916544/87910968 [==============================] - 1s 0us/step\n"
          ],
          "name": "stdout"
        }
      ]
    },
    {
      "cell_type": "code",
      "metadata": {
        "trusted": true,
        "id": "nSPF8ob4qngL",
        "outputId": "fa6db711-6a53-470b-a652-465f44dd047e"
      },
      "source": [
        "model.summary()"
      ],
      "execution_count": null,
      "outputs": [
        {
          "output_type": "stream",
          "text": [
            "Model: \"sequential\"\n",
            "_________________________________________________________________\n",
            "Layer (type)                 Output Shape              Param #   \n",
            "=================================================================\n",
            "inception_v3 (Functional)    (None, 6, 6, 2048)        21802784  \n",
            "_________________________________________________________________\n",
            "flatten (Flatten)            (None, 73728)             0         \n",
            "_________________________________________________________________\n",
            "dense (Dense)                (None, 10)                737290    \n",
            "=================================================================\n",
            "Total params: 22,540,074\n",
            "Trainable params: 737,290\n",
            "Non-trainable params: 21,802,784\n",
            "_________________________________________________________________\n"
          ],
          "name": "stdout"
        }
      ]
    },
    {
      "cell_type": "code",
      "metadata": {
        "trusted": true,
        "id": "iFvQp80YqngM"
      },
      "source": [
        "model.compile(loss=\"sparse_categorical_crossentropy\", optimizer='adam', metrics=['accuracy'])"
      ],
      "execution_count": null,
      "outputs": []
    },
    {
      "cell_type": "code",
      "metadata": {
        "trusted": true,
        "id": "8M4Hg7V4qngM",
        "outputId": "e0cfdad3-27d6-4f62-c57a-3a4f9ca38653"
      },
      "source": [
        "aug = ImageDataGenerator()\n",
        "model.fit(aug.flow(X_train, y_train),validation_data = (X_val, y_val),epochs = 15,verbose=2)"
      ],
      "execution_count": null,
      "outputs": [
        {
          "output_type": "stream",
          "text": [
            "Epoch 1/15\n",
            "23/23 - 4s - loss: 4.1168 - accuracy: 0.1195 - val_loss: 2.9613 - val_accuracy: 0.1333\n",
            "Epoch 2/15\n",
            "23/23 - 2s - loss: 2.4298 - accuracy: 0.1717 - val_loss: 2.1946 - val_accuracy: 0.2583\n",
            "Epoch 3/15\n",
            "23/23 - 2s - loss: 2.0768 - accuracy: 0.2720 - val_loss: 2.2642 - val_accuracy: 0.2472\n",
            "Epoch 4/15\n",
            "23/23 - 2s - loss: 2.0020 - accuracy: 0.3173 - val_loss: 2.1984 - val_accuracy: 0.2333\n",
            "Epoch 5/15\n",
            "23/23 - 2s - loss: 1.9930 - accuracy: 0.3063 - val_loss: 2.1839 - val_accuracy: 0.2472\n",
            "Epoch 6/15\n",
            "23/23 - 2s - loss: 1.8542 - accuracy: 0.3874 - val_loss: 2.2202 - val_accuracy: 0.2750\n",
            "Epoch 7/15\n",
            "23/23 - 2s - loss: 1.8843 - accuracy: 0.3338 - val_loss: 2.4466 - val_accuracy: 0.1944\n",
            "Epoch 8/15\n",
            "23/23 - 2s - loss: 1.8405 - accuracy: 0.3846 - val_loss: 2.3286 - val_accuracy: 0.2806\n",
            "Epoch 9/15\n",
            "23/23 - 2s - loss: 1.8072 - accuracy: 0.4286 - val_loss: 2.3664 - val_accuracy: 0.2278\n",
            "Epoch 10/15\n",
            "23/23 - 2s - loss: 1.6567 - accuracy: 0.4451 - val_loss: 2.2408 - val_accuracy: 0.2917\n",
            "Epoch 11/15\n",
            "23/23 - 2s - loss: 1.5069 - accuracy: 0.4821 - val_loss: 2.2905 - val_accuracy: 0.2389\n",
            "Epoch 12/15\n",
            "23/23 - 2s - loss: 1.5272 - accuracy: 0.5055 - val_loss: 2.3416 - val_accuracy: 0.2583\n",
            "Epoch 13/15\n",
            "23/23 - 2s - loss: 1.3892 - accuracy: 0.5398 - val_loss: 2.1605 - val_accuracy: 0.2833\n",
            "Epoch 14/15\n",
            "23/23 - 2s - loss: 1.4270 - accuracy: 0.5179 - val_loss: 2.6963 - val_accuracy: 0.2250\n",
            "Epoch 15/15\n",
            "23/23 - 2s - loss: 1.4862 - accuracy: 0.5357 - val_loss: 2.2023 - val_accuracy: 0.2417\n"
          ],
          "name": "stdout"
        },
        {
          "output_type": "execute_result",
          "data": {
            "text/plain": [
              "<tensorflow.python.keras.callbacks.History at 0x7f79bdb35090>"
            ]
          },
          "metadata": {
            "tags": []
          },
          "execution_count": 10
        }
      ]
    },
    {
      "cell_type": "code",
      "metadata": {
        "trusted": true,
        "id": "3Wl1UdhlqngM"
      },
      "source": [
        "model.save(\"dog_classifier.model\")"
      ],
      "execution_count": null,
      "outputs": []
    },
    {
      "cell_type": "code",
      "metadata": {
        "trusted": true,
        "id": "5nz-J5b8qngN"
      },
      "source": [
        "the_model=tf.keras.models.load_model(\"dog_classifier.model\")"
      ],
      "execution_count": null,
      "outputs": []
    }
  ]
}